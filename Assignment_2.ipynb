{
 "cells": [
  {
   "cell_type": "markdown",
   "id": "d927477f-3c31-477e-98d7-7f66c2f56e0a",
   "metadata": {},
   "source": [
    "Question 1"
   ]
  },
  {
   "cell_type": "markdown",
   "id": "a4951401-08e1-43ce-bce9-4f2c60a45811",
   "metadata": {},
   "source": [
    "We can use # to make a comment.\n",
    "Also we can change the cell type as markdowm to make a comment. Also we can use \"\"\" for comment.\n"
   ]
  },
  {
   "cell_type": "markdown",
   "id": "e42cf0f6-5c25-4d28-a90e-27452926fd1a",
   "metadata": {},
   "source": [
    "There are two types of comment.\n",
    "1. Single line comment ( using # )\n",
    "2. Multi line comment ( using \"\"\" )"
   ]
  },
  {
   "cell_type": "markdown",
   "id": "17584bcb-0aaa-483a-9878-e6ff298aa3f0",
   "metadata": {},
   "source": [
    "Question 2"
   ]
  },
  {
   "cell_type": "markdown",
   "id": "8d60d12c-347e-48c2-aff3-274b4ba5df11",
   "metadata": {},
   "source": [
    "A variable is like a container that holds a value or reference to an object."
   ]
  },
  {
   "cell_type": "markdown",
   "id": "849203c2-9692-45a1-be09-bcd87b527cc9",
   "metadata": {},
   "source": [
    "By choosing a name for a variable we declare a variable and then we use '=' operator to assign a value to this variable.\n",
    "ex- A=123\n",
    "    l=\"name\" etc"
   ]
  },
  {
   "cell_type": "markdown",
   "id": "baa14607-85f3-48cb-91c9-6e2196d89f17",
   "metadata": {},
   "source": [
    "Question 3"
   ]
  },
  {
   "cell_type": "markdown",
   "id": "1f06b464-b947-405d-bd81-1825b300e74e",
   "metadata": {},
   "source": [
    "We use ' Type casting ' to change data type in python\n",
    "example is shown below"
   ]
  },
  {
   "cell_type": "code",
   "execution_count": null,
   "id": "938e1a25-1a81-4af3-bac2-2efa3a40ac1d",
   "metadata": {},
   "outputs": [],
   "source": [
    "s=123\n",
    "print(\"type(s)\")"
   ]
  },
  {
   "cell_type": "code",
   "execution_count": 2,
   "id": "7f55e661-8516-4fed-a94e-259f6ef94c7f",
   "metadata": {},
   "outputs": [
    {
     "name": "stdout",
     "output_type": "stream",
     "text": [
      "<class 'int'>\n"
     ]
    }
   ],
   "source": [
    "s=123\n",
    "print(type(s))"
   ]
  },
  {
   "cell_type": "code",
   "execution_count": 4,
   "id": "84bbd9bd-26c0-4ad1-bd10-c6d81dcb119f",
   "metadata": {},
   "outputs": [],
   "source": [
    "s=int(s)"
   ]
  },
  {
   "cell_type": "code",
   "execution_count": 5,
   "id": "572888a0-2e64-4738-a109-a7f10e7b9876",
   "metadata": {},
   "outputs": [
    {
     "data": {
      "text/plain": [
       "int"
      ]
     },
     "execution_count": 5,
     "metadata": {},
     "output_type": "execute_result"
    }
   ],
   "source": [
    "type(s)"
   ]
  },
  {
   "cell_type": "markdown",
   "id": "b2102e84-5de6-4cc3-a719-402699378367",
   "metadata": {},
   "source": [
    "\n",
    "Question 4"
   ]
  },
  {
   "cell_type": "markdown",
   "id": "9d6872d9-f60e-46d5-a03e-df3592dd3952",
   "metadata": {},
   "source": [
    "1. First write any python code in any text editor and save it as .py file in any location.\n",
    "2. Open command promt. use \" cd loction\" to select location\n",
    "3. Then use command \" python followed by your file name \".\n",
    "4. press enter."
   ]
  },
  {
   "cell_type": "markdown",
   "id": "fd551f65-a4e1-4e67-b63a-e07ee1913a80",
   "metadata": {},
   "source": [
    "Question 5"
   ]
  },
  {
   "cell_type": "code",
   "execution_count": 8,
   "id": "74ba6714-e0f3-480c-8f5c-7e7000c6ab02",
   "metadata": {},
   "outputs": [
    {
     "data": {
      "text/plain": [
       "[2, 3]"
      ]
     },
     "execution_count": 8,
     "metadata": {},
     "output_type": "execute_result"
    }
   ],
   "source": [
    "my_list = [1,2,3,4,5]\n",
    "my_list1=my_list[1:3]\n",
    "my_list1"
   ]
  },
  {
   "cell_type": "markdown",
   "id": "c60852cd-d939-4761-a2d2-021b029803b2",
   "metadata": {},
   "source": [
    "Question 6"
   ]
  },
  {
   "cell_type": "markdown",
   "id": "dd2046f5-d9e4-46a1-8e6f-8ff6a67e8a00",
   "metadata": {},
   "source": [
    "A complex number is a number which contains a imaginary value "
   ]
  },
  {
   "cell_type": "markdown",
   "id": "8864cd7e-b4fe-4d66-9cc2-f616868f4075",
   "metadata": {},
   "source": [
    "Complex part is represented as \"j\".\n",
    "ex: 2+3j"
   ]
  },
  {
   "cell_type": "markdown",
   "id": "342e8c00-7a77-4e75-9752-56b7e33a2191",
   "metadata": {},
   "source": [
    "Question 7"
   ]
  },
  {
   "cell_type": "markdown",
   "id": "c4fbc10c-6e61-4ab2-a99e-d51e2be76017",
   "metadata": {},
   "source": [
    "age=25"
   ]
  },
  {
   "cell_type": "markdown",
   "id": "4749d72d-34c4-4a10-9971-b5c713e42944",
   "metadata": {},
   "source": [
    "Question 8"
   ]
  },
  {
   "cell_type": "code",
   "execution_count": 15,
   "id": "fda5493b-900a-43af-929f-1cd663eab8ff",
   "metadata": {},
   "outputs": [
    {
     "data": {
      "text/plain": [
       "float"
      ]
     },
     "execution_count": 15,
     "metadata": {},
     "output_type": "execute_result"
    }
   ],
   "source": [
    "price=9.99\n",
    "type (price)"
   ]
  },
  {
   "cell_type": "markdown",
   "id": "f533dfa6-807e-49a8-849d-625171947ee3",
   "metadata": {},
   "source": [
    "Question 9"
   ]
  },
  {
   "cell_type": "code",
   "execution_count": 16,
   "id": "7e89c6dc-989a-43c4-9fba-c4d93a4d9bca",
   "metadata": {},
   "outputs": [],
   "source": [
    "name = 'Dipanwita'"
   ]
  },
  {
   "cell_type": "code",
   "execution_count": 17,
   "id": "4538ba92-811b-40fc-9ef3-378e728ffe65",
   "metadata": {},
   "outputs": [
    {
     "name": "stdout",
     "output_type": "stream",
     "text": [
      "Dipanwita\n"
     ]
    }
   ],
   "source": [
    "print(name)"
   ]
  },
  {
   "cell_type": "markdown",
   "id": "bd7f1b58-45c3-4758-bcf1-6f927e1a9f7b",
   "metadata": {},
   "source": [
    "Question 10"
   ]
  },
  {
   "cell_type": "code",
   "execution_count": 19,
   "id": "26680098-6efe-42f4-8b38-eadd9da44659",
   "metadata": {},
   "outputs": [
    {
     "name": "stdout",
     "output_type": "stream",
     "text": [
      "World\n"
     ]
    }
   ],
   "source": [
    "s = 'Hello,World!'\n",
    "s1 = s[6:11]\n",
    "print(s1)"
   ]
  },
  {
   "cell_type": "markdown",
   "id": "b6b4d9f9-56f4-4420-bc0d-9a336fb34a14",
   "metadata": {},
   "source": [
    "Question 11"
   ]
  },
  {
   "cell_type": "code",
   "execution_count": 21,
   "id": "038a7a37-0f66-4a4b-8a2e-e43acf5327dd",
   "metadata": {},
   "outputs": [
    {
     "data": {
      "text/plain": [
       "bool"
      ]
     },
     "execution_count": 21,
     "metadata": {},
     "output_type": "execute_result"
    }
   ],
   "source": [
    "is_student = True\n",
    "type(is_student)"
   ]
  },
  {
   "cell_type": "code",
   "execution_count": null,
   "id": "0908bc2e-01a2-4d63-a56e-2048159b1d74",
   "metadata": {},
   "outputs": [],
   "source": []
  }
 ],
 "metadata": {
  "kernelspec": {
   "display_name": "Python 3 (ipykernel)",
   "language": "python",
   "name": "python3"
  },
  "language_info": {
   "codemirror_mode": {
    "name": "ipython",
    "version": 3
   },
   "file_extension": ".py",
   "mimetype": "text/x-python",
   "name": "python",
   "nbconvert_exporter": "python",
   "pygments_lexer": "ipython3",
   "version": "3.10.8"
  }
 },
 "nbformat": 4,
 "nbformat_minor": 5
}
